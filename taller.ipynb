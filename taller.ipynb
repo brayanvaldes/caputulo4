{
 "cells": [
  {
   "cell_type": "markdown",
   "metadata": {},
   "source": [
    "## Sistema descrito en la seccion 4.1"
   ]
  },
  {
   "cell_type": "markdown",
   "metadata": {},
   "source": [
    "1. El sistema debe calcular la probabilidad de encontrarlo en una posición en particular.\n",
    "\n",
    "2. El sistema si se le da otro vector Ket debe buscar la probabilidad de transitar del primer vector al segundo."
   ]
  },
  {
   "cell_type": "code",
   "execution_count": null,
   "metadata": {},
   "outputs": [
    {
     "name": "stdout",
     "output_type": "stream",
     "text": [
      "Probabilidad de encontrar la partícula en la posición 1: 0.6249999999999999\n",
      "Probabilidad de transición al segundo estado: 0.20833333333333334\n"
     ]
    }
   ],
   "source": [
    "import numpy as np\n",
    "\n",
    "class SistemaCuantico:\n",
    "    def __init__(self, amplitudes):\n",
    "        self.ket = np.array(amplitudes, dtype=complex)\n",
    "        self.ket /= np.linalg.norm(self.ket)\n",
    "\n",
    "    def probabilidad_en_posicion(self, posicion):\n",
    "        if 0 <= posicion < len(self.ket):\n",
    "            return np.abs(self.ket[posicion]) ** 2\n",
    "        else:\n",
    "            raise ValueError(\"Posicion fuera del rango del sistema.\")\n",
    "\n",
    "    def probabilidad_transicion(self, otro_ket):\n",
    "        otro_ket = np.array(otro_ket, dtype=complex)\n",
    "        otro_ket /= np.linalg.norm(otro_ket) \n",
    "        amplitud_transicion = np.vdot(self.ket, otro_ket) \n",
    "        return np.abs(amplitud_transicion) ** 2 \n",
    "\n",
    "amplitudes_iniciales = [1+1j, 2-1j, 0, 1] \n",
    "sistema = SistemaCuantico(amplitudes_iniciales)\n",
    "\n",
    "posicion = 1\n",
    "print(f\"Probabilidad de encontrar la particula en la posicion {posicion}:\",\n",
    "      sistema.probabilidad_en_posicion(posicion))\n",
    "\n",
    "otro_estado = [0, 1, 1+1j, 0]\n",
    "print(\"Probabilidad de transicion al segundo estado:\", \n",
    "      sistema.probabilidad_transicion(otro_estado))\n"
   ]
  },
  {
   "cell_type": "markdown",
   "metadata": {},
   "source": [
    "## Retos de programación del capítulo 4."
   ]
  },
  {
   "cell_type": "markdown",
   "metadata": {},
   "source": [
    "1. Amplitud de transición. El sistema puede recibir dos vectores y calcular la probabilidad de transitar de el uno al otro después de hacer la observación"
   ]
  },
  {
   "cell_type": "code",
   "execution_count": null,
   "metadata": {},
   "outputs": [
    {
     "name": "stdout",
     "output_type": "stream",
     "text": [
      "La probabilidad de transitar desde el ket inicial hasta el otro es: 0.20833333333333334\n"
     ]
    }
   ],
   "source": [
    "def probabilidad_transicion(ket, otro_ket):\n",
    "        ket = np.array(ket, dtype=complex)\n",
    "        ket /= np.linalg.norm(ket)\n",
    "        \n",
    "        otro_ket = np.array(otro_ket, dtype=complex)\n",
    "        otro_ket /= np.linalg.norm(otro_ket) \n",
    "        \n",
    "        amplitud_transicion = np.vdot(ket, otro_ket) \n",
    "        return np.abs(amplitud_transicion) ** 2 \n",
    "\n",
    "ket_inicial = [1+1j, 2-1j, 0, 1] \n",
    "otro_ket = [0, 1, 1+1j, 0]\n",
    "probabilidadTransicion = probabilidad_transicion(ket_inicial,otro_ket)\n",
    "print(f\"La probabilidad de transitar desde el ket inicial hasta el otro es: {probabilidadTransicion}\")"
   ]
  },
  {
   "cell_type": "markdown",
   "metadata": {},
   "source": [
    "2. Ahora con una matriz que describa un observable y un vector ket, el sistema revisa que la matriz sea hermitiana, y si lo es, calcula la media y la varianza del observable en el estado dado."
   ]
  },
  {
   "cell_type": "code",
   "execution_count": 9,
   "metadata": {},
   "outputs": [
    {
     "name": "stdout",
     "output_type": "stream",
     "text": [
      "(2.4999999999999996+0j)\n"
     ]
    }
   ],
   "source": [
    "import numpy as np\n",
    "\n",
    "def es_hermitiana(matriz):\n",
    "    return np.allclose(matriz, matriz.conj().T)\n",
    "\n",
    "def valor_esperado(matriz, vector):\n",
    "    producto = np.dot(matriz,vector)\n",
    "    return np.vdot(producto, vector) if es_hermitiana(matriz) else \"La matriz no es hermitiana\"\n",
    "\n",
    "A = np.array([[2, 1j], [-1j, 3]])\n",
    "B = np.array([[1/np.sqrt(2)],[1/-np.sqrt(2)]])\n",
    "print(valor_esperado(A,B))\n"
   ]
  }
 ],
 "metadata": {
  "kernelspec": {
   "display_name": ".venv",
   "language": "python",
   "name": "python3"
  },
  "language_info": {
   "codemirror_mode": {
    "name": "ipython",
    "version": 3
   },
   "file_extension": ".py",
   "mimetype": "text/x-python",
   "name": "python",
   "nbconvert_exporter": "python",
   "pygments_lexer": "ipython3",
   "version": "3.13.0"
  }
 },
 "nbformat": 4,
 "nbformat_minor": 2
}
