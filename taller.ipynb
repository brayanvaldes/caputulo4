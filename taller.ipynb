{
 "cells": [
  {
   "cell_type": "markdown",
   "metadata": {},
   "source": [
    "## Sistema descrito en la seccion 4.1"
   ]
  },
  {
   "cell_type": "markdown",
   "metadata": {},
   "source": [
    "1. El sistema debe calcular la probabilidad de encontrarlo en una posición en particular.\n",
    "\n",
    "2. El sistema si se le da otro vector Ket debe buscar la probabilidad de transitar del primer vector al segundo."
   ]
  },
  {
   "cell_type": "code",
   "execution_count": null,
   "metadata": {},
   "outputs": [
    {
     "name": "stdout",
     "output_type": "stream",
     "text": [
      "Probabilidad de encontrar la partícula en la posición 1: 0.6249999999999999\n",
      "Probabilidad de transición al segundo estado: 0.20833333333333334\n"
     ]
    }
   ],
   "source": [
    "import numpy as np\n",
    "\n",
    "class SistemaCuantico:\n",
    "    def __init__(self, amplitudes):\n",
    "        self.ket = np.array(amplitudes, dtype=complex)\n",
    "        self.ket /= np.linalg.norm(self.ket)\n",
    "\n",
    "    def probabilidad_en_posicion(self, posicion):\n",
    "        if 0 <= posicion < len(self.ket):\n",
    "            return np.abs(self.ket[posicion]) ** 2\n",
    "        else:\n",
    "            raise ValueError(\"Posicion fuera del rango del sistema.\")\n",
    "\n",
    "    def probabilidad_transicion(self, otro_ket):\n",
    "        otro_ket = np.array(otro_ket, dtype=complex)\n",
    "        otro_ket /= np.linalg.norm(otro_ket) \n",
    "        amplitud_transicion = np.vdot(self.ket, otro_ket) \n",
    "        return np.abs(amplitud_transicion) ** 2 \n",
    "\n",
    "amplitudes_iniciales = [1+1j, 2-1j, 0, 1] \n",
    "sistema = SistemaCuantico(amplitudes_iniciales)\n",
    "\n",
    "posicion = 1\n",
    "print(f\"Probabilidad de encontrar la particula en la posicion {posicion}:\",\n",
    "      sistema.probabilidad_en_posicion(posicion))\n",
    "\n",
    "otro_estado = [0, 1, 1+1j, 0]\n",
    "print(\"Probabilidad de transicion al segundo estado:\", \n",
    "      sistema.probabilidad_transicion(otro_estado))\n"
   ]
  },
  {
   "cell_type": "markdown",
   "metadata": {},
   "source": [
    "## Retos de programación del capítulo 4."
   ]
  },
  {
   "cell_type": "markdown",
   "metadata": {},
   "source": [
    "1. Amplitud de transición. El sistema puede recibir dos vectores y calcular la probabilidad de transitar de el uno al otro después de hacer la observación"
   ]
  },
  {
   "cell_type": "code",
   "execution_count": null,
   "metadata": {},
   "outputs": [
    {
     "name": "stdout",
     "output_type": "stream",
     "text": [
      "La probabilidad de transitar desde el ket inicial hasta el otro es: 0.20833333333333334\n"
     ]
    }
   ],
   "source": [
    "def probabilidad_transicion(ket, otro_ket):\n",
    "        ket = np.array(ket, dtype=complex)\n",
    "        ket /= np.linalg.norm(ket)\n",
    "        \n",
    "        otro_ket = np.array(otro_ket, dtype=complex)\n",
    "        otro_ket /= np.linalg.norm(otro_ket) \n",
    "        \n",
    "        amplitud_transicion = np.vdot(ket, otro_ket) \n",
    "        return np.abs(amplitud_transicion) ** 2 \n",
    "\n",
    "ket_inicial = [1+1j, 2-1j, 0, 1] \n",
    "otro_ket = [0, 1, 1+1j, 0]\n",
    "probabilidadTransicion = probabilidad_transicion(ket_inicial,otro_ket)\n",
    "print(f\"La probabilidad de transitar desde el ket inicial hasta el otro es: {probabilidadTransicion}\")"
   ]
  },
  {
   "cell_type": "markdown",
   "metadata": {},
   "source": [
    "2. Ahora con una matriz que describa un observable y un vector ket, el sistema revisa que la matriz sea hermitiana, y si lo es, calcula la media y la varianza del observable en el estado dado."
   ]
  },
  {
   "cell_type": "code",
   "execution_count": 1,
   "metadata": {},
   "outputs": [
    {
     "name": "stdout",
     "output_type": "stream",
     "text": [
      "Valor esperado: (2.4999999999999996+0j)\n",
      "Varianza: (1.25+0j)\n"
     ]
    }
   ],
   "source": [
    "import numpy as np\n",
    "\n",
    "def es_hermitiana(matriz):\n",
    "    return np.allclose(matriz, matriz.conj().T)\n",
    "\n",
    "def valor_esperado(matriz, vector):\n",
    "    producto = np.dot(matriz, vector)\n",
    "    return np.vdot(producto, vector) if es_hermitiana(matriz) else \"La matriz no es hermitiana\"\n",
    "\n",
    "def varianza(matriz, vector):\n",
    "    if not es_hermitiana(matriz):\n",
    "        return \"La matriz no es hermitiana\"\n",
    "    \n",
    "    valor_med = valor_esperado(matriz, vector)\n",
    "    A_cuadrado = np.dot(matriz, matriz)\n",
    "    valor_esperado_A2 = valor_esperado(A_cuadrado, vector)\n",
    "    return valor_esperado_A2 - (valor_med**2)\n",
    "\n",
    "A = np.array([[2, 1j], [-1j, 3]])\n",
    "B = np.array([[1/np.sqrt(2)], [1/-np.sqrt(2)]])\n",
    "\n",
    "print(\"Valor esperado:\", valor_esperado(A, B))\n",
    "print(\"Varianza:\", varianza(A, B))\n",
    "\n"
   ]
  },
  {
   "cell_type": "markdown",
   "metadata": {},
   "source": [
    "3. El sistema calcula los valores propios del observable y la probabilidad de que el sistema transite a alguno de los vectores propios después de la observación."
   ]
  },
  {
   "cell_type": "code",
   "execution_count": 3,
   "metadata": {},
   "outputs": [
    {
     "name": "stdout",
     "output_type": "stream",
     "text": [
      "Valor esperado: (2.4999999999999996+0j)\n",
      "Varianza: (1.25+0j)\n",
      "\n",
      "Valores propios y probabilidades de transición:\n",
      "Valor propio 1: 1.3820\n",
      "Probabilidad de pasar a ese estado: 0.5000\n",
      "Vector propio normalizado:\n",
      "[[-0.85065081+0.j        ]\n",
      " [ 0.        -0.52573111j]]\n",
      "\n",
      "Valor propio 2: 3.6180\n",
      "Probabilidad de pasar a ese estado: 0.5000\n",
      "Vector propio normalizado:\n",
      "[[0.52573111+0.j        ]\n",
      " [0.        -0.85065081j]]\n",
      "\n"
     ]
    }
   ],
   "source": [
    "import numpy as np\n",
    "\n",
    "def es_hermitiana(matriz):\n",
    "    return np.allclose(matriz, matriz.conj().T)\n",
    "\n",
    "def valor_esperado(matriz, vector):\n",
    "    producto = np.dot(matriz, vector)\n",
    "    return np.vdot(producto, vector) if es_hermitiana(matriz) else \"La matriz no es hermitiana\"\n",
    "\n",
    "def varianza(matriz, vector):\n",
    "    if not es_hermitiana(matriz):\n",
    "        return \"La matriz no es hermitiana\"\n",
    "    valor_med = valor_esperado(matriz, vector)\n",
    "    A_cuadrado = np.dot(matriz, matriz)\n",
    "    valor_esperado_A2 = valor_esperado(A_cuadrado, vector)\n",
    "    return valor_esperado_A2 - (valor_med**2)\n",
    "\n",
    "def probabilidades_transicion(matriz, estado):\n",
    "    if not es_hermitiana(matriz):\n",
    "        return \"La matriz no es hermitiana\"\n",
    "    \n",
    "    estado = estado / np.linalg.norm(estado)\n",
    "\n",
    "    valores_propios, vectores_propios = np.linalg.eigh(matriz)\n",
    "    \n",
    "    resultados = []\n",
    "    for i in range(len(valores_propios)):\n",
    "        valor = valores_propios[i]\n",
    "        vector_propio = vectores_propios[:, i].reshape(-1, 1)\n",
    "\n",
    "        amplitud = np.vdot(vector_propio, estado)\n",
    "        probabilidad = np.abs(amplitud)**2\n",
    "        resultados.append((valor, probabilidad, vector_propio))\n",
    "    \n",
    "    return resultados\n",
    "\n",
    "A = np.array([[2, 1j], [-1j, 3]])\n",
    "B = np.array([[1/np.sqrt(2)], [1/-np.sqrt(2)]])\n",
    "\n",
    "print(\"Valor esperado:\", valor_esperado(A, B))\n",
    "print(\"Varianza:\", varianza(A, B))\n",
    "print(\"\\nValores propios y probabilidades de transición:\")\n",
    "\n",
    "transiciones = probabilidades_transicion(A, B)\n",
    "for i, (valor, prob, vector) in enumerate(transiciones):\n",
    "    print(f\"Valor propio {i+1}: {valor:.4f}\")\n",
    "    print(f\"Probabilidad de pasar a ese estado: {prob:.4f}\")\n",
    "    print(f\"Vector propio normalizado:\\n{vector}\\n\")\n"
   ]
  },
  {
   "cell_type": "markdown",
   "metadata": {},
   "source": [
    "4. Se considera la dinámica del sistema. Ahora con una serie de matrices en el sistema calcula el estado final a partir de un estado inicial."
   ]
  },
  {
   "cell_type": "code",
   "execution_count": 2,
   "metadata": {},
   "outputs": [
    {
     "name": "stdout",
     "output_type": "stream",
     "text": [
      "Estado final:\n",
      " [[ 0.+0.0000000e+00j]\n",
      " [-1.+1.2246468e-16j]]\n"
     ]
    }
   ],
   "source": [
    "import numpy as np\n",
    "\n",
    "def aplicar_dinamica(un_list, estado_inicial):\n",
    "    estado = estado_inicial\n",
    "    for U in un_list:\n",
    "        estado = np.dot(U, estado)\n",
    "    return estado\n",
    "\n",
    "U1 = np.array([[1, 0], [0, 1]])                     \n",
    "U2 = np.array([[0, 1], [1, 0]])                    \n",
    "U3 = np.array([[1, 0], [0, np.exp(1j * np.pi)]]) \n",
    "\n",
    "estado_inicial = np.array([[1], [0]])\n",
    "\n",
    "Un = [U1, U2, U3]\n",
    "estado_final = aplicar_dinamica(Un, estado_inicial)\n",
    "\n",
    "print(\"Estado final:\\n\", estado_final)\n"
   ]
  },
  {
   "cell_type": "markdown",
   "metadata": {},
   "source": [
    "## Realice los siguientes problemas e incluyalos como ejemplos"
   ]
  },
  {
   "cell_type": "markdown",
   "metadata": {},
   "source": [
    "4.3.1"
   ]
  },
  {
   "cell_type": "code",
   "execution_count": 4,
   "metadata": {},
   "outputs": [
    {
     "name": "stdout",
     "output_type": "stream",
     "text": [
      "Estado 1:\n",
      "  Autovalor: -0.5\n",
      "  Probabilidad de transicion: 0.12499999999999997\n",
      "  Vector propio:\n",
      "[[-0.70710678]\n",
      " [ 0.70710678]]\n",
      "\n",
      "Estado 2:\n",
      "  Autovalor: 0.5\n",
      "  Probabilidad de transicion: 0.12499999999999997\n",
      "  Vector propio:\n",
      "[[0.70710678]\n",
      " [0.70710678]]\n",
      "\n"
     ]
    }
   ],
   "source": [
    "import numpy as np\n",
    "\n",
    "spin_up = np.array([[1], [0]])\n",
    "\n",
    "Sx = 0.5 * np.array([[0, 1],\n",
    "                     [1, 0]])\n",
    "\n",
    "estado_aplicado = np.dot(Sx, spin_up)\n",
    "\n",
    "autovalores, autovectores = np.linalg.eigh(Sx)\n",
    "\n",
    "probabilidades = []\n",
    "for i in range(autovectores.shape[1]):\n",
    "    eigenvector = autovectores[:, i].reshape(2, 1)\n",
    "    proyeccion = np.vdot(eigenvector, estado_aplicado)\n",
    "    probabilidad = np.abs(proyeccion)**2\n",
    "    probabilidades.append((autovalores[i], probabilidad, eigenvector))\n",
    "\n",
    "for i, (val, prob, vec) in enumerate(probabilidades):\n",
    "    print(f\"Estado {i+1}:\")\n",
    "    print(f\"  Autovalor: {val}\")\n",
    "    print(f\"  Probabilidad de transicion: {prob}\")\n",
    "    print(f\"  Vector propio:\\n{vec}\\n\")\n"
   ]
  },
  {
   "cell_type": "markdown",
   "metadata": {},
   "source": [
    "Se aplica $S_x$ al estado inicial,   \n",
    "Se hallan los autovalores y autovectores del observable $S_x$,  \n",
    "Se calcula la probabilidad de transicion a cada autovector.  "
   ]
  },
  {
   "cell_type": "markdown",
   "metadata": {},
   "source": [
    "3.3.2"
   ]
  },
  {
   "cell_type": "code",
   "execution_count": 5,
   "metadata": {},
   "outputs": [
    {
     "name": "stdout",
     "output_type": "stream",
     "text": [
      "Autovalores: [-0.5  0.5]\n",
      "Probabilidades: [np.float64(0.12499999999999997), np.float64(0.12499999999999997)]\n",
      "Valor esperado (media): 0.0\n"
     ]
    },
    {
     "data": {
      "image/png": "[encoded data removed]",
      "text/plain": [
       "<Figure size 640x480 with 1 Axes>"
      ]
     },
     "metadata": {},
     "output_type": "display_data"
    }
   ],
   "source": [
    "import numpy as np\n",
    "import matplotlib.pyplot as plt\n",
    "\n",
    "spin_up = np.array([[1], [0]])\n",
    "\n",
    "Sx = 0.5 * np.array([[0, 1],\n",
    "                     [1, 0]])\n",
    "\n",
    "estado_aplicado = np.dot(Sx, spin_up)\n",
    "\n",
    "autovalores, autovectores = np.linalg.eigh(Sx)\n",
    "\n",
    "probabilidades = []\n",
    "for i in range(autovectores.shape[1]):\n",
    "    eigenvector = autovectores[:, i].reshape(2, 1)\n",
    "    proyeccion = np.vdot(eigenvector, estado_aplicado)\n",
    "    probabilidad = np.abs(proyeccion)**2\n",
    "    probabilidades.append(probabilidad)\n",
    "\n",
    "media = np.sum(autovalores * probabilidades)\n",
    "\n",
    "print(\"Autovalores:\", autovalores)\n",
    "print(\"Probabilidades:\", probabilidades)\n",
    "print(\"Valor esperado (media):\", media)\n",
    "\n",
    "plt.bar([str(round(l, 2)) for l in autovalores], probabilidades, color='skyblue')\n",
    "plt.title(\"Distribución de probabilidad de los autovalores de $S_x$\")\n",
    "plt.xlabel(\"Autovalores\")\n",
    "plt.ylabel(\"Probabilidad\")\n",
    "plt.ylim(0, 1)\n",
    "plt.grid(axis='y', linestyle='--', alpha=0.7)\n",
    "plt.show()\n"
   ]
  },
  {
   "cell_type": "markdown",
   "metadata": {},
   "source": [
    "Se muestran los autovalores y sus probabilidades de ocurrencia,  \n",
    "Se calcula el valor esperado (media),  \n",
    "Se grfica la distribución de probabilidad de los autovalores.  "
   ]
  },
  {
   "cell_type": "markdown",
   "metadata": {},
   "source": [
    "4.4.1"
   ]
  },
  {
   "cell_type": "code",
   "execution_count": 6,
   "metadata": {},
   "outputs": [
    {
     "name": "stdout",
     "output_type": "stream",
     "text": [
      "U1 es unitaria: True\n",
      "U2 es unitaria: True\n",
      "U1 * U2 es unitaria: True\n",
      "Matriz U1 * U2:\n",
      "[[ 0.70710678 -0.70710678]\n",
      " [ 0.70710678  0.70710678]]\n"
     ]
    }
   ],
   "source": [
    "import numpy as np\n",
    "\n",
    "def es_unitaria(U):\n",
    "    identidad = np.eye(U.shape[0])\n",
    "    return np.allclose(U.conj().T @ U, identidad)\n",
    "\n",
    "U1 = np.array([[0, 1],\n",
    "               [1, 0]])\n",
    "\n",
    "U2 = (1 / np.sqrt(2)) * np.array([[1, 1],\n",
    "                                  [1, -1]])\n",
    "\n",
    "U3 = U1 @ U2\n",
    "\n",
    "print(\"U1 es unitaria:\", es_unitaria(U1))\n",
    "print(\"U2 es unitaria:\", es_unitaria(U2))\n",
    "print(\"U1 * U2 es unitaria:\", es_unitaria(U3))\n",
    "\n",
    "print(\"Matriz U1 * U2:\")\n",
    "print(U3)\n"
   ]
  },
  {
   "cell_type": "markdown",
   "metadata": {},
   "source": [
    "Se verifica que:  \n",
    "\n",
    "$𝑈_1$ es unitaria  \n",
    "\n",
    "$𝑈_2$ es unitaria  \n",
    "\n",
    "$𝑈_1$ $𝑈_2$ también es unitaria  \n",
    "\n",
    "Esto indica que las matrices unitarias son cerradas bajo la multiplicación, como se menciona en el posultado 4.4.1"
   ]
  },
  {
   "cell_type": "markdown",
   "metadata": {},
   "source": [
    "4.4.2"
   ]
  },
  {
   "cell_type": "code",
   "execution_count": 7,
   "metadata": {},
   "outputs": [
    {
     "name": "stdout",
     "output_type": "stream",
     "text": [
      "Estado final:\n",
      "[ 0.        +0.j         -0.70710678+0.70710678j  0.        +0.j\n",
      "  0.        +0.j        ]\n",
      "\n",
      "Probabilidad de estar en la posición 3: 0.0000\n"
     ]
    }
   ],
   "source": [
    "import numpy as np\n",
    "\n",
    "U = np.array([\n",
    "    [0, 1/np.sqrt(2), 1/np.sqrt(2), 0],\n",
    "    [1j/np.sqrt(2), 0, 0, 1/np.sqrt(2)],\n",
    "    [1/np.sqrt(2), 0, 0, 1j/np.sqrt(2)],\n",
    "    [0, 1/np.sqrt(2), -1/np.sqrt(2), 0]\n",
    "], dtype=complex)\n",
    "\n",
    "psi = np.array([1, 0, 0, 0], dtype=complex)\n",
    "\n",
    "for _ in range(3):\n",
    "    psi = U @ psi\n",
    "\n",
    "print(\"Estado final:\")\n",
    "print(psi)\n",
    "\n",
    "prob_3 = abs(psi[3])**2\n",
    "print(f\"\\nProbabilidad de estar en la posición 3: {prob_3:.4f}\")"
   ]
  },
  {
   "cell_type": "markdown",
   "metadata": {},
   "source": [
    "Se multiplica el vector estado por la matriz unitaria 𝑈 tres veces.  \n",
    "Al final, se calcula el modulo al cuadrado del elemento en la posición 3 del vector ∣𝜓⟩ para obtener la probabilidad."
   ]
  },
  {
   "cell_type": "markdown",
   "metadata": {},
   "source": [
    "## Discusion del Ejercicio 4.5.2\n",
    "\n",
    "### Enunciado:\n",
    "> Escribe el vector de estado generico para un sistema de dos particulas con espin.  \n",
    "> Generalizalo para un sistema con $ n $ particulas.  \n",
    "\n",
    "---\n",
    "\n",
    "### Estado de dos partículas con espin\n",
    "\n",
    "Cada particula con espin (como un qubit) puede estar en una superposicion lineal de dos estados base:\n",
    "\n",
    "$$\n",
    "|\\uparrow\\rangle = |0\\rangle, \\quad |\\downarrow\\rangle = |1\\rangle\n",
    "$$\n",
    "\n",
    "Para **dos particulas**, el espacio de Hilbert es:\n",
    "\n",
    "$$\n",
    "\\mathcal{H}_2 = \\mathbb{C}^2 \\otimes \\mathbb{C}^2 = \\mathbb{C}^4\n",
    "$$\n",
    "\n",
    "El estado cuantico generico se expresa como:\n",
    "\n",
    "$$\n",
    "|\\psi\\rangle = c_{00}|00\\rangle + c_{01}|01\\rangle + c_{10}|10\\rangle + c_{11}|11\\rangle\n",
    "$$\n",
    "\n",
    "Donde $ c_{ij} \\in \\mathbb{C} $ y:\n",
    "\n",
    "$$\n",
    "|c_{00}|^2 + |c_{01}|^2 + |c_{10}|^2 + |c_{11}|^2 = 1\n",
    "$$\n",
    "\n",
    "---\n",
    "\n",
    "### Generalización al caso de $ n $ partículas\n",
    "\n",
    "Para un sistema de $ n $ partículas (es decir, $ n $ qubits), el espacio de estados es:\n",
    "\n",
    "$$\n",
    "\\mathcal{H}_n = \\mathbb{C}^{2^n}\n",
    "$$\n",
    "\n",
    "El estado general se puede escribir como:\n",
    "\n",
    "$$\n",
    "|\\psi\\rangle = \\sum_{i_1, i_2, \\dots, i_n \\in \\{0,1\\}} c_{i_1 i_2 \\dots i_n} |i_1 i_2 \\dots i_n\\rangle\n",
    "$$\n",
    "\n",
    "Con la condición de normalización:\n",
    "\n",
    "$$\n",
    "\\sum |c_{i_1 i_2 \\dots i_n}|^2 = 1\n",
    "$$\n",
    "\n",
    "---\n",
    "\n",
    "### Importancia fisica y computacional\n",
    "\n",
    "- **Modelo de qubits**: Esta estructura representa como se codifica y manipula la informacion en computacion cuantica.\n",
    "- **Exponencialidad**: El espacio de estados crece exponencialmente con el numero de particulas. Un sistema de 300 qubits tiene mas estados posibles que atomos en el universo observable.\n",
    "- **Entrelazamiento**: Muchos estados no se pueden escribir como productos de estados individuales, lo que permite fenomenos cuanticos unicos.\n",
    "- **Implementación física**: Estos registros cuanticos son implementados en hardware mediante atomos, iones atrapados, fotones, superconductores, etc.\n"
   ]
  },
  {
   "cell_type": "markdown",
   "metadata": {},
   "source": [
    "## Discusión del Ejercicio 4.5.3\n",
    "\n",
    "### Enunciado:\n",
    "> Asume el mismo escenario del Ejemplo 4.5.2 y considera el estado  \n",
    "> $$\n",
    "> |\\phi\\rangle = |x_0\\rangle \\otimes |y_1\\rangle + |x_1\\rangle \\otimes |y_1\\rangle\n",
    "> $$\n",
    "> ¿Es este estado separable?\n",
    "\n",
    "---\n",
    "\n",
    "### Contexto previo: ¿Que es un estado separable?\n",
    "\n",
    "En sistemas cuanticos compuestos, un estado se considera **separable** si puede escribirse como el producto tensorial de estados individuales:\n",
    "\n",
    "$$\n",
    "|\\psi\\rangle = |\\psi_1\\rangle \\otimes |\\psi_2\\rangle\n",
    "$$\n",
    "\n",
    "Por el contrario, si **no** se puede expresar de esta forma, el estado se llama **entrelazado** o **entangled**.\n",
    "\n",
    "---\n",
    "\n",
    "### Análisis del estado $ |\\phi\\rangle $\n",
    "\n",
    "El estado propuesto es:\n",
    "\n",
    "$$\n",
    "|\\phi\\rangle = |x_0\\rangle \\otimes |y_1\\rangle + |x_1\\rangle \\otimes |y_1\\rangle\n",
    "$$\n",
    "\n",
    "Agrupando terminos comunes:\n",
    "\n",
    "$$\n",
    "|\\phi\\rangle = \\left(|x_0\\rangle + |x_1\\rangle\\right) \\otimes |y_1\\rangle\n",
    "$$\n",
    "\n",
    "Este estado **si** puede escribirse como producto tensorial:\n",
    "\n",
    "- $ |\\psi_1\\rangle = |x_0\\rangle + |x_1\\rangle $\n",
    "- $ |\\psi_2\\rangle = |y_1\\rangle $\n",
    "\n",
    "Por lo tanto:\n",
    "\n",
    "$$\n",
    "|\\phi\\rangle = |\\psi_1\\rangle \\otimes |\\psi_2\\rangle\n",
    "$$\n",
    "\n",
    "---\n",
    "\n",
    "El estado $ |\\phi\\rangle $ **es separable**. No esta entrelazado, ya que puede expresarse como el producto tensorial de dos estados individuales, uno para cada subsistema.\n",
    "\n",
    "Esto contrasta con el estado del Ejemplo 4.5.2:\n",
    "\n",
    "$$\n",
    "|\\psi\\rangle = |x_0\\rangle \\otimes |y_0\\rangle + |x_1\\rangle \\otimes |y_1\\rangle\n",
    "$$\n",
    "\n",
    "Ese estado **no** se puede expresar como producto tensorial de dos estados, por lo tanto es un **estado entrelazado**.\n",
    "\n",
    "---\n",
    "\n",
    "Este ejercicio ayuda a entender la diferencia entre:\n",
    "\n",
    "- **Estados separables**: Describen sistemas no correlacionados, con evolución independiente.\n",
    "- **Estados entrelazados**: Tienen correlaciones no clásicas que son fundamentales para algoritmos cuánticos, criptografía cuántica y teleportación.\n",
    "\n",
    "---\n"
   ]
  }
 ],
 "metadata": {
  "kernelspec": {
   "display_name": "Python 3",
   "language": "python",
   "name": "python3"
  },
  "language_info": {
   "codemirror_mode": {
    "name": "ipython",
    "version": 3
   },
   "file_extension": ".py",
   "mimetype": "text/x-python",
   "name": "python",
   "nbconvert_exporter": "python",
   "pygments_lexer": "ipython3",
   "version": "3.13.0"
  }
 },
 "nbformat": 4,
 "nbformat_minor": 2
}
